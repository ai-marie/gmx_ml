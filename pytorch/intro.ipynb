{
 "cells": [
  {
   "cell_type": "markdown",
   "id": "23324559-3566-4b38-82e3-e463036f2709",
   "metadata": {},
   "source": [
    "# Intro to PyTorch"
   ]
  },
  {
   "cell_type": "markdown",
   "id": "aa29ccd9-0428-439d-84de-82809128180d",
   "metadata": {},
   "source": [
    "## Section 1: Actually activating the virtual environment and opening the Jupyter Notebook"
   ]
  },
  {
   "cell_type": "markdown",
   "id": "c3c22989-e3df-4e35-9d2a-0eaa91ff9bf8",
   "metadata": {},
   "source": [
    "``` source .venv/bin/activate ``` \\\n",
    "``` pip install ipykernel ``` \\\n",
    "``` python -m ipykernel install --user --name=my_venv --display-name \"Python (.venv)\" ```"
   ]
  },
  {
   "cell_type": "markdown",
   "id": "df6fd28e-99e3-4a33-aadc-adee18383bbd",
   "metadata": {},
   "source": [
    "Open Jupyter Lab using ``` jupyter lab ``` and when creating a new notebook, ensure that you select the ``` .venv ``` kernel option"
   ]
  },
  {
   "cell_type": "markdown",
   "id": "28cd819f-2d76-4e6b-87ad-aef1e9167c93",
   "metadata": {},
   "source": [
    "## Section 2: Tensors"
   ]
  },
  {
   "cell_type": "code",
   "execution_count": 3,
   "id": "af495d1f-63f2-4b0a-aeae-ca7c47e65361",
   "metadata": {},
   "outputs": [
    {
     "name": "stdout",
     "output_type": "stream",
     "text": [
      "tensor(7)\n",
      "0\n",
      "7\n"
     ]
    }
   ],
   "source": [
    "import torch\n",
    "scalar = torch.tensor(7) #zero-dimension tensor\n",
    "print(scalar)\n",
    "print(scalar.ndim) #will output 0, because it is zero dimensional\n",
    "print(scalar.item()) #7 items in the tensor"
   ]
  },
  {
   "cell_type": "markdown",
   "id": "ec777934-fb3e-4d56-959b-174835171c35",
   "metadata": {},
   "source": [
    "A tensor is just a fancy name for a data structure, a data-storing framework. A scalar is basically a zero dimensional tensor, you can check that it's zero dimensional by running ``` print(scalar.ndim) ```, giving the number of dimensions. The scalar does contain items, which you can check using ``` print(scalar.item() ) ```. "
   ]
  },
  {
   "cell_type": "code",
   "execution_count": 10,
   "id": "15785bf5-0d81-4f2a-9bf9-c64f816fb57f",
   "metadata": {},
   "outputs": [
    {
     "name": "stdout",
     "output_type": "stream",
     "text": [
      "tensor([7, 7])\n",
      "1\n",
      "torch.Size([2])\n"
     ]
    }
   ],
   "source": [
    "#vector = single-dimensional tensor\n",
    "import torch\n",
    "vector = torch.tensor([7 , 7])\n",
    "print(vector)\n",
    "print(vector.ndim)\n",
    "print(vector.shape)"
   ]
  },
  {
   "cell_type": "markdown",
   "id": "42bb6c9d-ae5b-48f0-b535-991178b58a14",
   "metadata": {},
   "source": [
    "A vector is a single-dimensional tensor. Again, check this with ``` print(vector.ndim) ```. Running ``` print(vector.item() ) ``` will fail. Since it contains two 7's, running ``` print(vector.shape) ``` will tell you the number of items it has, or, its \"shape\"."
   ]
  },
  {
   "cell_type": "code",
   "execution_count": 13,
   "id": "ac370e01-1e21-4900-a015-66f1eb9cf7ab",
   "metadata": {},
   "outputs": [
    {
     "name": "stdout",
     "output_type": "stream",
     "text": [
      "tensor([[ 3,  9],\n",
      "        [ 4, 10]])\n",
      "2\n",
      "torch.Size([2, 2])\n"
     ]
    }
   ],
   "source": [
    "import torch\n",
    "MATRIX = torch.tensor([[3, 9],\n",
    "                       [4, 10]])\n",
    "print(MATRIX)\n",
    "print(MATRIX.ndim)\n",
    "print(MATRIX.shape)"
   ]
  },
  {
   "cell_type": "markdown",
   "id": "22857956-3e85-4f73-a858-36ffa589da04",
   "metadata": {},
   "source": [
    "This will create a matrix. This will have a two-dimensional shape, as evident by the number of square brackets on one side. Again, run this using ``` print(MATRIX.ndim) ```. Because it is a \"square\" with a 2*2 shape, running ``` print(MATRIX.shape) ``` will output this."
   ]
  },
  {
   "cell_type": "code",
   "execution_count": 15,
   "id": "2867eae4-4215-4c44-9754-186299dfa827",
   "metadata": {},
   "outputs": [
    {
     "name": "stdout",
     "output_type": "stream",
     "text": [
      "tensor([[[ 1,  2,  3],\n",
      "         [ 6, 10, 12],\n",
      "         [ 2,  5, 10]]])\n",
      "3\n",
      "torch.Size([1, 3, 3])\n"
     ]
    }
   ],
   "source": [
    "import torch\n",
    "MATRIX = torch.tensor([[[1, 2, 3],\n",
    "                        [6, 10, 12],\n",
    "                        [2, 5, 10]]])\n",
    "print(MATRIX)\n",
    "print(MATRIX.ndim)\n",
    "print(MATRIX.shape)"
   ]
  },
  {
   "cell_type": "markdown",
   "id": "af7398a2-d843-4811-a69e-c2dc8b568775",
   "metadata": {},
   "source": [
    "The torch size will always tell you, in order: The number of matrices, the rows, the columns."
   ]
  },
  {
   "cell_type": "markdown",
   "id": "6a363f6f-e46f-4e6b-9d5a-9540cda06915",
   "metadata": {},
   "source": [
    "![Local Image](tensor.png)"
   ]
  },
  {
   "cell_type": "code",
   "execution_count": 18,
   "id": "75add350-4ec6-4689-8227-efccef3e2217",
   "metadata": {},
   "outputs": [
    {
     "name": "stdout",
     "output_type": "stream",
     "text": [
      "tensor([[[0.3158, 0.4150, 0.0334],\n",
      "         [0.7801, 0.4804, 0.4994],\n",
      "         [0.1888, 0.9179, 0.0380]]])\n",
      "torch.Size([1, 3, 3])\n"
     ]
    }
   ],
   "source": [
    "import torch\n",
    "x = torch.rand(1, 3, 3)\n",
    "print(x)\n",
    "print(x.shape)"
   ]
  },
  {
   "cell_type": "markdown",
   "id": "bbf1e97e-a9e0-420c-ac07-d7ee583cf06d",
   "metadata": {},
   "source": [
    "Use ``` torch.rand() ``` to create a scalar, vector, or matrix with randomly generated numbers. The numbers you choose in brackets reflect its size."
   ]
  },
  {
   "cell_type": "code",
   "execution_count": 21,
   "id": "5c0339f8-538c-4357-b3bd-f1addedddbc7",
   "metadata": {},
   "outputs": [
    {
     "name": "stdout",
     "output_type": "stream",
     "text": [
      "tensor([[[0., 0., 0.],\n",
      "         [0., 0., 0.],\n",
      "         [0., 0., 0.]]])\n",
      "tensor([[[1., 1., 1.],\n",
      "         [1., 1., 1.],\n",
      "         [1., 1., 1.]]])\n"
     ]
    }
   ],
   "source": [
    "import torch\n",
    "x = torch.zeros(size=(1, 3, 3))\n",
    "print(x)\n",
    "\n",
    "y = torch.ones(size=(1, 3, 3))\n",
    "print(y)"
   ]
  },
  {
   "cell_type": "code",
   "execution_count": 28,
   "id": "e5080da8-d582-4808-81ee-9a55a718f78c",
   "metadata": {},
   "outputs": [
    {
     "name": "stdout",
     "output_type": "stream",
     "text": [
      "tensor([0, 1, 2, 3, 4, 5, 6, 7, 8, 9])\n",
      "tensor([[[0., 0., 0.],\n",
      "         [0., 0., 0.],\n",
      "         [0., 0., 0.]]])\n",
      "tensor([0, 0, 0, 0, 0, 0, 0, 0, 0, 0])\n"
     ]
    }
   ],
   "source": [
    "z = torch.arange(0, 10, 1)\n",
    "print(z)\n",
    "\n",
    "x = torch.zeros(size=(1, 3, 3))\n",
    "print(x)\n",
    "\n",
    "ten_zeros = torch.zeros_like(input=z)\n",
    "print(ten_zeros)"
   ]
  },
  {
   "cell_type": "markdown",
   "id": "02860667-a23b-4a68-99f3-62058e4591d2",
   "metadata": {},
   "source": [
    "Use ``` torch.arange() ``` to create a scalar, vector, or matrix that starts, ends, and counts in the steps that you choose. In this case, the code tells the program to start from 0, end at 10, and move every 1 step.\n",
    "\n",
    "You can also use ``` torch.zeros_like(input) ``` or ``` torch.ones_like(input) ``` to create tensors of same shape as the input but instead fill the gaps with zeros or ones."
   ]
  },
  {
   "cell_type": "code",
   "execution_count": 29,
   "id": "8a33ef47-fe2b-490e-bfb2-e901de4dbd89",
   "metadata": {},
   "outputs": [
    {
     "name": "stdout",
     "output_type": "stream",
     "text": [
      "tensor([[0.6460, 0.6807, 0.5820, 0.5707],\n",
      "        [0.8145, 0.8236, 0.2771, 0.5731],\n",
      "        [0.9811, 0.0556, 0.2643, 0.4308]])\n",
      "Shape of tensor: torch.Size([3, 4])\n",
      "Datatype of tensor: torch.float32\n",
      "Device tensor is stored on: cpu\n"
     ]
    }
   ],
   "source": [
    "# Create a tensor\n",
    "some_tensor = torch.rand(3, 4)\n",
    "\n",
    "# Find out details about it\n",
    "print(some_tensor)\n",
    "print(f\"Shape of tensor: {some_tensor.shape}\")\n",
    "print(f\"Datatype of tensor: {some_tensor.dtype}\")\n",
    "print(f\"Device tensor is stored on: {some_tensor.device}\") # will default to CPU"
   ]
  },
  {
   "cell_type": "markdown",
   "id": "2243b225-d11a-4a2a-b06e-c5bc3baca21b",
   "metadata": {},
   "source": [
    "Use this code snippet to get information about a tensor quickly."
   ]
  },
  {
   "cell_type": "markdown",
   "id": "46efa194-dfa0-45b9-96d7-d469b2c4dc5f",
   "metadata": {},
   "source": [
    "### Simple math using tensors"
   ]
  },
  {
   "cell_type": "code",
   "execution_count": 32,
   "id": "07dfc925-0774-402f-9383-7b5a5b38301e",
   "metadata": {},
   "outputs": [
    {
     "name": "stdout",
     "output_type": "stream",
     "text": [
      "tensor([[[0.7693, 0.6897, 0.4628],\n",
      "         [0.7985, 0.9285, 0.9167],\n",
      "         [0.9039, 0.0470, 0.8206]]])\n",
      "tensor([[[10.7693, 10.6897, 10.4628],\n",
      "         [10.7985, 10.9285, 10.9167],\n",
      "         [10.9039, 10.0470, 10.8206]]])\n"
     ]
    }
   ],
   "source": [
    "add = torch.rand(1, 3, 3)\n",
    "print(add)\n",
    "\n",
    "print(add + 10)"
   ]
  },
  {
   "cell_type": "markdown",
   "id": "b50d7abc-985f-451e-9fe3-22faf62f7d07",
   "metadata": {},
   "source": [
    "This will add the number 10 to each number in the matrix"
   ]
  },
  {
   "cell_type": "code",
   "execution_count": 34,
   "id": "5aa86702-5b54-47c8-a0cc-281d2e265629",
   "metadata": {},
   "outputs": [
    {
     "name": "stdout",
     "output_type": "stream",
     "text": [
      "tensor([[[0.7041, 0.7511, 0.2668],\n",
      "         [0.6262, 0.3957, 0.5647],\n",
      "         [0.9598, 0.9240, 0.5287]]])\n",
      "tensor([[[-9.2959, -9.2489, -9.7332],\n",
      "         [-9.3738, -9.6043, -9.4353],\n",
      "         [-9.0402, -9.0760, -9.4713]]])\n",
      "tensor([[[0.7041, 0.7511, 0.2668],\n",
      "         [0.6262, 0.3957, 0.5647],\n",
      "         [0.9598, 0.9240, 0.5287]]])\n"
     ]
    }
   ],
   "source": [
    "subtract = torch.rand(1, 3, 3)\n",
    "print(subtract)\n",
    "print(subtract - 10)\n",
    "print(subtract)"
   ]
  },
  {
   "cell_type": "markdown",
   "id": "1086ae2b-d9b8-419a-8ec9-e33fe44c11e3",
   "metadata": {},
   "source": [
    "But this won't change the actual tensor, i.e. ``` print(subtract) ``` will give the same tensor that you generated."
   ]
  },
  {
   "cell_type": "code",
   "execution_count": 40,
   "id": "03811590-0b58-4a37-9d63-53a0703c75fb",
   "metadata": {},
   "outputs": [
    {
     "name": "stdout",
     "output_type": "stream",
     "text": [
      "tensor([1, 3, 3])\n"
     ]
    },
    {
     "data": {
      "text/plain": [
       "tensor([10, 30, 30])"
      ]
     },
     "execution_count": 40,
     "metadata": {},
     "output_type": "execute_result"
    }
   ],
   "source": [
    "addpy = torch.tensor([1, 3, 3])\n",
    "print(addpy)\n",
    "torch.multiply(addpy, 10)"
   ]
  },
  {
   "cell_type": "code",
   "execution_count": null,
   "id": "e313a1c0-8c8d-42d4-a560-bbff136081f4",
   "metadata": {},
   "outputs": [],
   "source": []
  }
 ],
 "metadata": {
  "kernelspec": {
   "display_name": "Python (.venv)",
   "language": "python",
   "name": "my_venv"
  },
  "language_info": {
   "codemirror_mode": {
    "name": "ipython",
    "version": 3
   },
   "file_extension": ".py",
   "mimetype": "text/x-python",
   "name": "python",
   "nbconvert_exporter": "python",
   "pygments_lexer": "ipython3",
   "version": "3.13.2"
  }
 },
 "nbformat": 4,
 "nbformat_minor": 5
}
